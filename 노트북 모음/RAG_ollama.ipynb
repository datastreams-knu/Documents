{
  "nbformat": 4,
  "nbformat_minor": 0,
  "metadata": {
    "colab": {
      "provenance": []
    },
    "kernelspec": {
      "name": "python3",
      "display_name": "Python 3"
    },
    "language_info": {
      "name": "python"
    }
  },
  "cells": [
    {
      "cell_type": "markdown",
      "source": [
        "curl -fsSL https://ollama.com/install.sh | sh\n",
        "\n",
        "ollama serve &\n",
        "\n",
        "ollama pull llama3\n",
        "\n",
        "ollama pull nomic-embed-text"
      ],
      "metadata": {
        "id": "cyYUtWJlmyiW"
      }
    },
    {
      "cell_type": "code",
      "source": [
        "!pip install langchain_community bs4 chromadb colab-xterm\n",
        "%load_ext colabxterm\n",
        "%xterm"
      ],
      "metadata": {
        "id": "kOqCPsOcn_C3"
      },
      "execution_count": null,
      "outputs": []
    },
    {
      "cell_type": "code",
      "source": [
        "from langchain_community.llms import Ollama\n",
        "from langchain.document_loaders import WebBaseLoader\n",
        "from langchain.text_splitter import RecursiveCharacterTextSplitter\n",
        "from langchain.embeddings import OllamaEmbeddings\n",
        "from langchain.vectorstores import Chroma\n",
        "\n",
        "ollama = Ollama(\n",
        "    base_url='http://localhost:11434',\n",
        "    model=\"llama3\"\n",
        ")\n",
        "\n",
        "loader = WebBaseLoader(\"https://cse.knu.ac.kr/bbs/board.php?bo_table=sub5_1&lang=kor\")\n",
        "data = loader.load()\n",
        "\n",
        "text_splitter=RecursiveCharacterTextSplitter(chunk_size=500, chunk_overlap=20)\n",
        "all_splits = text_splitter.split_documents(data)\n",
        "\n",
        "oembed = OllamaEmbeddings(base_url=\"http://localhost:11434\", model=\"nomic-embed-text\")\n",
        "vectorstore = Chroma.from_documents(documents=all_splits, embedding=oembed)\n",
        "\n",
        "question=\"경북대 IT대학 컴퓨터학부의 가장 최근 공지는 뭐야?\"\n",
        "docs = vectorstore.similarity_search(question)"
      ],
      "metadata": {
        "id": "pZ5-76kqJ4Ld"
      },
      "execution_count": 20,
      "outputs": []
    },
    {
      "cell_type": "code",
      "source": [
        "from langchain.chains import RetrievalQA\n",
        "qachain=RetrievalQA.from_chain_type(ollama, retriever=vectorstore.as_retriever())\n",
        "res = qachain.invoke({\"query\": question})\n",
        "print(res['result'])"
      ],
      "metadata": {
        "id": "94g6GN2poA0j"
      },
      "execution_count": null,
      "outputs": []
    },
    {
      "cell_type": "markdown",
      "source": [
        "[참고](https://github.com/ollama/ollama/blob/main/docs/tutorials/langchainpy.md)"
      ],
      "metadata": {
        "id": "b9JAHvWvm76Y"
      }
    }
  ]
}