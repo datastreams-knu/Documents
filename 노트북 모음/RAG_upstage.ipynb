{
  "nbformat": 4,
  "nbformat_minor": 0,
  "metadata": {
    "colab": {
      "provenance": []
    },
    "kernelspec": {
      "name": "python3",
      "display_name": "Python 3"
    },
    "language_info": {
      "name": "python"
    }
  },
  "cells": [
    {
      "cell_type": "code",
      "source": [
        "pip install langchain faiss-cpu beautifulsoup4 requests langchain-upstage"
      ],
      "metadata": {
        "id": "Hd_bqg7rwI6z"
      },
      "execution_count": null,
      "outputs": []
    },
    {
      "cell_type": "code",
      "source": [
        "import os\n",
        "import requests\n",
        "from bs4 import BeautifulSoup\n",
        "from langchain_upstage import UpstageEmbeddings\n",
        "from langchain.vectorstores import FAISS\n",
        "from langchain.text_splitter import CharacterTextSplitter\n",
        "from langchain_upstage import ChatUpstage\n",
        "from langchain.chains import RetrievalQA\n",
        "from langchain.chains.question_answering import load_qa_chain\n",
        "from concurrent.futures import ThreadPoolExecutor\n",
        "\n",
        "os.environ[\"UPSTAGE_API_KEY\"] = \"up_coecXafSJVG1v17EEZ3lxjFbZ8xcD\"\n",
        "\n",
        "embedding_model = None\n",
        "vectorstore = None\n",
        "upstage_llm = None\n",
        "qa_chain = None\n",
        "\n",
        "def initialize_models():\n",
        "    global embedding_model, vectorstore, upstage_llm, qa_chain\n",
        "    if embedding_model is None:\n",
        "        embedding_model = UpstageEmbeddings(model=\"solar-embedding-1-large\")\n",
        "    if vectorstore is None:\n",
        "        vectorstore = FAISS.from_texts(texts, embedding_model)\n",
        "    if upstage_llm is None:\n",
        "        upstage_llm = ChatUpstage(api_key=os.getenv(\"UPSTAGE_API_KEY\"))\n",
        "    if qa_chain is None:\n",
        "        qa_chain = load_qa_chain(llm=upstage_llm, chain_type=\"stuff\")\n",
        "\n",
        "initialize_models()\n",
        "\n",
        "def extract_text_from_url(urls):\n",
        "    all_texts = []\n",
        "\n",
        "    def fetch_text(url):\n",
        "        try:\n",
        "            response = requests.get(url)\n",
        "            soup = BeautifulSoup(response.text, 'html.parser')\n",
        "            paragraphs = soup.find_all('p')\n",
        "            return \"\\n\".join([para.get_text() for para in paragraphs])\n",
        "        except Exception as e:\n",
        "            print(f\"Error processing {url}: {e}\")\n",
        "            return None\n",
        "\n",
        "    with ThreadPoolExecutor() as executor:\n",
        "        results = executor.map(fetch_text, urls)\n",
        "\n",
        "    all_texts = [text for text in results if text]\n",
        "\n",
        "    return all_texts\n",
        "\n",
        "now_number = 28226\n",
        "urls = []\n",
        "\n",
        "for number in range(now_number, now_number-30, -1):\n",
        "  urls.append(\"https://cse.knu.ac.kr/bbs/board.php?bo_table=sub5_1&wr_id=\" + str(number))\n",
        "\n",
        "document_text = extract_text_from_url(urls)\n",
        "\n",
        "if isinstance(document_text, list):\n",
        "    texts = []\n",
        "    for doc in document_text:\n",
        "        if isinstance(doc, str):\n",
        "            texts.extend(text_splitter.split_text(doc))\n",
        "        else:\n",
        "            raise TypeError(\"Each document in the list must be a string\")\n",
        "else:\n",
        "    raise TypeError(\"document_text must be a list of strings\")\n",
        "\n",
        "embedding_model = UpstageEmbeddings(\n",
        "    model=\"solar-embedding-1-large\"\n",
        ")\n",
        "\n",
        "vectorstore = FAISS.from_texts(texts, embedding_model)\n",
        "\n",
        "upstage_llm = ChatUpstage(api_key=os.getenv(\"UPSTAGE_API_KEY\"))\n",
        "\n",
        "qa_chain = load_qa_chain(llm=upstage_llm, chain_type=\"stuff\")\n",
        "\n",
        "qa = RetrievalQA(combine_documents_chain=qa_chain, retriever=vectorstore.as_retriever())"
      ],
      "metadata": {
        "colab": {
          "base_uri": "https://localhost:8080/"
        },
        "id": "9pP7u4KU7fu2",
        "outputId": "74e5f4a2-dafa-473c-a734-f8031188e58d"
      },
      "execution_count": 145,
      "outputs": [
        {
          "output_type": "stream",
          "name": "stderr",
          "text": [
            "WARNING:langchain_text_splitters.base:Created a chunk of size 1130, which is longer than the specified 1000\n"
          ]
        }
      ]
    },
    {
      "cell_type": "code",
      "source": [
        "query = \"가장 최근의 공지사항은 무엇인가요?\"\n",
        "print(qa.run(query))"
      ],
      "metadata": {
        "colab": {
          "base_uri": "https://localhost:8080/"
        },
        "id": "-BmfmdZXxJVQ",
        "outputId": "09ba9102-8959-43b2-8feb-b7f666f275f9"
      },
      "execution_count": 148,
      "outputs": [
        {
          "output_type": "stream",
          "name": "stdout",
          "text": [
            "가장 최근의 공지사항은 \"2024년 2학기 대학원 학위논문 제출 대상자 중 연구윤리 교육 미수강신청 학생을 위한 최종 수강신청 일정 안내\"입니다. 이 공지사항은 2024년 9월 24일에 게시되었습니다. 해당 학생은 2024년 9월 23일부터 9월 24일까지 신청해야 하며, 교육은 2024년 9월 25일부터 12월 23일까지 진행됩니다. 이번 학기 연구윤리 교육 이수 여부는 9월 말에 처리될 예정입니다.\n"
          ]
        }
      ]
    },
    {
      "cell_type": "code",
      "source": [
        "query = \"튜터 모집 기간은 언제인가요?\"\n",
        "print(qa.run(query))"
      ],
      "metadata": {
        "colab": {
          "base_uri": "https://localhost:8080/"
        },
        "id": "LMR5b06KzLQR",
        "outputId": "abe72994-ead8-4ff5-9ae2-02d166d8fff7"
      },
      "execution_count": 147,
      "outputs": [
        {
          "output_type": "stream",
          "name": "stdout",
          "text": [
            "튜터 모집 기간은 다음과 같습니다:\n",
            "\n",
            "- 1차~5차 신청: 2024년 9월 19일(목) 오전까지 완료\n",
            "- 6차 모집: 2024년 9월 23일(월) 10시까지\n",
            "\n",
            "지원 방법은 구글 폼을 통해 신청하면 됩니다. 자세한 내용은 첨부된 파일을 확인해주세요.\n"
          ]
        }
      ]
    },
    {
      "cell_type": "code",
      "source": [],
      "metadata": {
        "id": "3TplHaalz0HG"
      },
      "execution_count": null,
      "outputs": []
    }
  ]
}